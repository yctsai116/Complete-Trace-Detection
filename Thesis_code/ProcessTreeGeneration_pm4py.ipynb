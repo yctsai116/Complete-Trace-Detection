{
 "cells": [
  {
   "cell_type": "code",
   "execution_count": null,
   "metadata": {},
   "outputs": [],
   "source": [
    "# import pm4py\n",
    "import numpy as np\n",
    "from copy import deepcopy\n",
    "import matplotlib.pyplot as plt\n",
    "import pandas as pd\n",
    "import itertools\n",
    "from pm4py.objects.log.util import general as log_util\n",
    "from pm4py.objects.log.util import xes\n",
    "import matplotlib\n",
    "import random\n",
    "matplotlib.use('TkAgg')\n",
    "\n",
    "from pm4py.algo.discovery.inductive import factory as inductive_miner\n",
    "from pm4py.visualization.petrinet import factory as pn_vis_factory\n",
    "from pm4py.algo.simulation.tree_generator.versions import ptandloggenerator as tree_gen_factory\n",
    "from pm4py.objects.conversion.process_tree import factory as pt_conv_factory\n",
    "from pm4py.algo.simulation.playout.versions import basic_playout\n",
    "from pm4py.algo.filtering.log.variants import variants_filter\n"
   ]
  },
  {
   "cell_type": "code",
   "execution_count": null,
   "metadata": {
    "scrolled": false
   },
   "outputs": [],
   "source": [
    "parameters = {'mode':10,'min':6,'max':12}\n",
    "tree = tree_gen_factory.apply(parameters=parameters)\n",
    "gen_net, gen_im, gen_fm = pt_conv_factory.apply(tree)\n",
    "graph_pn = pn_vis_factory.apply(gen_net, gen_im, gen_fm)\n",
    "pn_vis_factory.view(graph_pn)\n",
    "print(tree)"
   ]
  },
  {
   "cell_type": "code",
   "execution_count": null,
   "metadata": {},
   "outputs": [],
   "source": [
    "# check if we can re-discover the generate petri net\n",
    "gen_log = basic_playout.apply_playout(gen_net, gen_im, no_traces=1000, max_trace_length=100)"
   ]
  },
  {
   "cell_type": "code",
   "execution_count": null,
   "metadata": {
    "scrolled": true
   },
   "outputs": [],
   "source": [
    "# Mining for a Petri net\n",
    "from pm4py.algo.discovery.inductive import factory as inductive_miner\n",
    "# parameters={'noiseThreshold':0.4}\n",
    "Re_net, Re_initial_marking, Re_final_marking = inductive_miner.apply(gen_log,parameters=parameters)\n",
    "# Re_net, Re_initial_marking, Re_final_marking = inductive_miner.apply(gen_log)\n",
    "\n",
    "# Petri net visualization\n",
    "from pm4py.visualization.petrinet import factory as pn_vis_factory\n",
    "\n",
    "gviz_pn = pn_vis_factory.apply(Re_net, Re_initial_marking, Re_final_marking)\n",
    "pn_vis_factory.view(gviz_pn)\n",
    "\n",
    "var=variants_filter.get_variants_sorted_by_count(variants_filter.get_variants(gen_log))\n",
    "# len(var)\n",
    "# print(var)"
   ]
  },
  {
   "cell_type": "code",
   "execution_count": null,
   "metadata": {},
   "outputs": [],
   "source": [
    "from pm4py.evaluation.replay_fitness.versions import alignment_based\n",
    "from pm4py.evaluation.precision.versions import etconformance_token\n",
    "from pm4py.objects.petri.check_soundness import check_relaxed_soundness_net_in_fin_marking as soundness\n",
    "# soundness(net, initial_marking, final_marking)\n",
    "fitness_wholeNet = alignment_based.apply(gen_log, gen_net, gen_im, gen_fm)\n",
    "precision_wholeNet = etconformance_token.apply(gen_log, gen_net, gen_im, gen_fm)\n",
    "print(fitness_wholeNet)\n",
    "print('precision:',precision_wholeNet)"
   ]
  },
  {
   "cell_type": "code",
   "execution_count": null,
   "metadata": {},
   "outputs": [],
   "source": [
    "def Gen_ev(env, bcs, net, initial_marking, max_trace_length , concept_name ,Init_timestamp ):\n",
    "    with bcs.request() as req:\n",
    "        yield req\n",
    "\n",
    "        trace = log_instance.Trace()\n",
    "        trace.attributes[\"concept:name\"] = str(concept_name)\n",
    "        marking = copy(initial_marking)\n",
    "        for j in range(100000):\n",
    "            mu, sigma = 1, 0.4\n",
    "#             mu, sigma = 4, 2\n",
    "            g=np.random.normal(mu, sigma)\n",
    "            dtime = g if g > 0 else mu\n",
    "            dtime=1\n",
    "            if not semantics.enabled_transitions(net, marking):\n",
    "                break\n",
    "            all_enabled_trans = semantics.enabled_transitions(net, marking)\n",
    "            all_enabled_trans = list(all_enabled_trans)\n",
    "            shuffle(all_enabled_trans)\n",
    "            trans = all_enabled_trans[0]\n",
    "            if trans.label is not None:\n",
    "                event = log_instance.Event()\n",
    "                event[\"case:concept:name\"] = 'case_'+str(concept_name)\n",
    "                event[\"concept:name\"] = trans.label\n",
    "                event[\"time:timestamp\"] = Init_timestamp + timedelta(hours=env.now)\n",
    "                trace.append(event)\n",
    "                stream.append(event)\n",
    "                yield env.timeout(dtime)\n",
    "            marking = semantics.execute(trans, net, marking)\n",
    "            if len(trace) > max_trace_length:\n",
    "                break"
   ]
  },
  {
   "cell_type": "code",
   "execution_count": null,
   "metadata": {},
   "outputs": [],
   "source": [
    "import simpy\n",
    "from copy import copy\n",
    "from random import shuffle\n",
    "import pm4py.objects.log.log as log_instance\n",
    "from pm4py.objects.petri import semantics\n",
    "# time stamp interval = 1 sec\n",
    "import pm4py.objects.log.log as log_instance\n",
    "import time\n",
    "import datetime\n",
    "import pytz\n",
    "from datetime import timedelta\n",
    "Init_timestamp=datetime.datetime(2010, 1, 1, 0, 0, 0, 0, pytz.UTC)\n",
    "stream = log_instance.EventStream()\n",
    "\n",
    "\n",
    "max_trace_length=100\n",
    "net=gen_net\n",
    "initial_marking=gen_im\n",
    "# How many cases to generate\n",
    "no_traces=3000\n",
    "# max parallel case\n",
    "workers=150\n",
    "\n",
    "env = simpy.Environment()\n",
    "bcs = simpy.Resource(env, capacity=workers)\n",
    "for i in range(no_traces):\n",
    "    env.process(Gen_ev(env, bcs, net, initial_marking, 100 , i ,Init_timestamp ))\n",
    "env.run()"
   ]
  },
  {
   "cell_type": "code",
   "execution_count": null,
   "metadata": {},
   "outputs": [],
   "source": [
    "# plot figure of parallel cases vs. time step\n",
    "\n",
    "from pm4py.objects.conversion.log.versions import to_event_log\n",
    "\n",
    "log = to_event_log.transform_event_stream_to_event_log(stream,enable_deepcopy=True)\n",
    "tr_len = {}\n",
    "for case_index, case in enumerate(log):\n",
    "    tr_len[case.attributes[xes.DEFAULT_TRACEID_KEY]]=log[case_index].__len__()\n",
    "    \n",
    "case_glue=log_util.CASE_ATTRIBUTE_GLUE\n",
    "count_dic={}\n",
    "num_act_list=[]\n",
    "for event in stream:\n",
    "    if event[case_glue] in count_dic:\n",
    "        count_dic[event[case_glue]]=count_dic[event[case_glue]]-1\n",
    "    else:\n",
    "        count_dic[event[case_glue]]=tr_len[event[case_glue]]-1\n",
    "    num_act=0\n",
    "    for k,v in count_dic.items():\n",
    "        if v !=0:\n",
    "            num_act=num_act+1\n",
    "    num_act_list.append(num_act)\n",
    "\n",
    "plt.figure(figsize=(20,10))\n",
    "plt.plot(num_act_list)\n",
    "plt.ylabel('# active')\n",
    "plt.show()"
   ]
  },
  {
   "cell_type": "code",
   "execution_count": null,
   "metadata": {},
   "outputs": [],
   "source": [
    "from pm4py.objects.log.exporter.xes import factory as exporter\n",
    "exporter.apply(stream,'test.xes')"
   ]
  }
 ],
 "metadata": {
  "kernelspec": {
   "display_name": "Python 3",
   "language": "python",
   "name": "python3"
  },
  "language_info": {
   "codemirror_mode": {
    "name": "ipython",
    "version": 3
   },
   "file_extension": ".py",
   "mimetype": "text/x-python",
   "name": "python",
   "nbconvert_exporter": "python",
   "pygments_lexer": "ipython3",
   "version": "3.6.9"
  }
 },
 "nbformat": 4,
 "nbformat_minor": 2
}
